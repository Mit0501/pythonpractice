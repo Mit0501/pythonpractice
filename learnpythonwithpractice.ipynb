{
  "nbformat": 4,
  "nbformat_minor": 0,
  "metadata": {
    "colab": {
      "provenance": [],
      "authorship_tag": "ABX9TyOs58/xaAvyBXWLDaF4ycLq",
      "include_colab_link": true
    },
    "kernelspec": {
      "name": "python3",
      "display_name": "Python 3"
    },
    "language_info": {
      "name": "python"
    }
  },
  "cells": [
    {
      "cell_type": "markdown",
      "metadata": {
        "id": "view-in-github",
        "colab_type": "text"
      },
      "source": [
        "<a href=\"https://colab.research.google.com/github/Mit0501/pythonpractice/blob/main/learnpythonwithpractice.ipynb\" target=\"_parent\"><img src=\"https://colab.research.google.com/assets/colab-badge.svg\" alt=\"Open In Colab\"/></a>"
      ]
    },
    {
      "cell_type": "code",
      "execution_count": null,
      "metadata": {
        "colab": {
          "base_uri": "https://localhost:8080/"
        },
        "id": "tApWNQMfwF_y",
        "outputId": "024654fc-022b-4d07-934b-2cba7e408237"
      },
      "outputs": [
        {
          "output_type": "stream",
          "name": "stdout",
          "text": [
            "Good Morning, this is the final call to AL passengers for the flight AL 466 which is planned to take off at 8.40A.M.\n",
            "Welcome to Air Lines.\n",
            "Passengers are requested to have their breakfast.\n",
            "Flight Number is specified to the passengers.\n",
            "Total number of times flight service name is specified in the boarding call: 2\n",
            "THANK YOU ALL..HAVE A NICE JOURNEY!\n",
            "thank you all..have a nice journey!\n"
          ]
        }
      ],
      "source": [
        "# practice code to use some of inbuild functon in string\n",
        "boarding_call=\"Good Evening, this is the final call to AL passengers for the flight AL 466 which is planned to take off at 8.40A.M.\"\n",
        "if(boarding_call.startswith(\"Good Evening\")):\n",
        "    print(boarding_call.replace(\"Good Evening\",\"Good Morning\"))\n",
        "if(boarding_call.find(\"AL\"))>=0:\n",
        "    print(\"Welcome to Air Lines.\")\n",
        "if(boarding_call.endswith(\"A.M.\")):\n",
        "    print(\"Passengers are requested to have their breakfast.\")\n",
        "a=boarding_call.split(\" \")\n",
        "for i in a:\n",
        "    if(i.isdigit()):\n",
        "        print(\"Flight Number is specified to the passengers.\")\n",
        "print(\"Total number of times flight service name is specified in the boarding call:\",boarding_call.count(\"AL\"))\n",
        "message=\"Thank you all..Have a nice journey!\"\n",
        "print(message.upper())\n",
        "print(message.lower())\n"
      ]
    },
    {
      "cell_type": "code",
      "source": [
        "#Creating a string\n",
        "pancard_number=\"AABGT6715H\"\n",
        "#Length of the string\n",
        "print(\"Length of the PAN card number:\", len(pancard_number))\n",
        "#Concatenating two strings\n",
        "name1 =\"PAN \"\n",
        "name2=\"card\"\n",
        "name=name1+name2\n",
        "print(name)\n",
        "print(\"Iterating the string using range()\")\n",
        "for index in range(0,len(pancard_number)):\n",
        "    print(pancard_number[index])\n",
        "\n",
        "print(\"Iterating the string using keyword in\")\n",
        "for value in pancard_number:\n",
        "    print(value)\n",
        "print(\"Searching for a character in string\")\n",
        "if \"Z\" in pancard_number:\n",
        "    print(\"Character present\")\n",
        "else:\n",
        "    print(\"Character is not present\")\n",
        "#Slicing a string\n",
        "print(\"The numbers in the PAN card number:\", pancard_number[5:9])\n",
        "print(\"Last but one 3 characters in the PAN card:\",pancard_number[-4:-1])\n",
        "# pancard_number[2]=\"A\" #This line will result in an error, i.e., string is immutable\n",
        "print(pancard_number)\n"
      ],
      "metadata": {
        "colab": {
          "base_uri": "https://localhost:8080/"
        },
        "id": "ISKmHxJaxcDZ",
        "outputId": "f64c9d39-bf4b-4174-e5d6-6007611791ba"
      },
      "execution_count": null,
      "outputs": [
        {
          "output_type": "stream",
          "name": "stdout",
          "text": [
            "Length of the PAN card number: 10\n",
            "PAN card\n",
            "Iterating the string using range()\n",
            "A\n",
            "A\n",
            "B\n",
            "G\n",
            "T\n",
            "6\n",
            "7\n",
            "1\n",
            "5\n",
            "H\n",
            "Iterating the string using keyword in\n",
            "A\n",
            "A\n",
            "B\n",
            "G\n",
            "T\n",
            "6\n",
            "7\n",
            "1\n",
            "5\n",
            "H\n",
            "Searching for a character in string\n",
            "Character is not present\n",
            "The numbers in the PAN card number: 6715\n",
            "Last but one 3 characters in the PAN card: 715\n",
            "AABGT6715H\n"
          ]
        }
      ]
    },
    {
      "cell_type": "code",
      "source": [
        "''' Write a Python program to generate the ticket numbers for specified number of passengers traveling in a flight as per the details mentioned below:\n",
        "The ticket number should be generated as airline:src:dest:number where,\n",
        "\n",
        "Consider AL1 as the value for airline\n",
        "\n",
        "src and dest should be the first three characters of the source and destination cities.\n",
        "\n",
        "number should be auto-generated starting from 101\n",
        "\n",
        "The program should return the list of ticket numbers of last five passengers.\n",
        "Note: If passenger count is less than 5, then return the list of all generated ticket numbers. '''\n",
        "\n",
        "def generate_ticket(airline,source,destination,numberofpassenger):\n",
        "  ticket=[]\n",
        "  src=source[:3]\n",
        "  dest=destination[:3]\n",
        "  number=101\n",
        "  for i in range(0,numberofpassenger):\n",
        "    ticket.append(airline+':'+src+':'+dest+':'+str(number))\n",
        "    number+=1\n",
        "\n",
        "  if(numberofpassenger<5):\n",
        "    return ticket\n",
        "  else:\n",
        "    return ticket[-5:]\n",
        "\n",
        "generate_ticket('AL1','Mumbai','Delhi',7)\n"
      ],
      "metadata": {
        "colab": {
          "base_uri": "https://localhost:8080/"
        },
        "id": "swYDiMuWx3kj",
        "outputId": "e6cbc57d-189d-4bd8-e488-0deb579fc4dc"
      },
      "execution_count": 2,
      "outputs": [
        {
          "output_type": "execute_result",
          "data": {
            "text/plain": [
              "['AL1:Mum:Del:103',\n",
              " 'AL1:Mum:Del:104',\n",
              " 'AL1:Mum:Del:105',\n",
              " 'AL1:Mum:Del:106',\n",
              " 'AL1:Mum:Del:107']"
            ]
          },
          "metadata": {},
          "execution_count": 2
        }
      ]
    },
    {
      "cell_type": "code",
      "source": [
        "list_of_airlines=[\"AL1\",\"AL2\",\"AL3\"]\n",
        "print(\"Iterating the list using range()\")\n",
        "for index in range(0,len(list_of_airlines)):\n",
        "    print(list_of_airlines[index],end=' ')\n",
        "print()\n",
        "print(\"Iterating the list using keyword in\")\n",
        "for airline in list_of_airlines:\n",
        "    print(airline,end=' ')\n"
      ],
      "metadata": {
        "colab": {
          "base_uri": "https://localhost:8080/"
        },
        "id": "ynodKLUxCc_V",
        "outputId": "e99a740a-2c84-4e21-da56-56e74ad57c67"
      },
      "execution_count": 4,
      "outputs": [
        {
          "output_type": "stream",
          "name": "stdout",
          "text": [
            "Iterating the list using range()\n",
            "AL1 AL2 AL3 \n",
            "Iterating the list using keyword in\n",
            "AL1 AL2 AL3 "
          ]
        }
      ]
    },
    {
      "cell_type": "code",
      "source": [
        "''' Given a list of integer values, write a Python program to check whether the list contains the same number in adjacent positions. Display the count of such adjacent occurrences.\n",
        "\n",
        "Sample Input Sample Output\n",
        "[1,1,5,100,-20,-20,6,0,0] 3\n",
        "[10,20,30,40,30,20] 0\n",
        "[1,2,2,3,4,4,4,10] 3 '''\n",
        "\n",
        "list=input('Enter the sample input in list:')\n",
        "list=list.split()\n",
        "print(list)\n",
        "#list=[1,1,5,100,-20,-20,6,0,0]\n",
        "count=0\n",
        "for i in range(0,len(list)-1):\n",
        "  if (list[i]==list[i+1]):\n",
        "    count+=1\n",
        "print('Number of adjacent element of given list:',count)\n",
        "\n"
      ],
      "metadata": {
        "colab": {
          "base_uri": "https://localhost:8080/"
        },
        "id": "ZEfvocSjEq0e",
        "outputId": "a571d179-12cf-4e37-c71c-136fb85690bf"
      },
      "execution_count": 25,
      "outputs": [
        {
          "output_type": "stream",
          "name": "stdout",
          "text": [
            "Enter the sample input in list:1 2 3 4 4 3 2 \n",
            "['1', '2', '3', '4', '4', '3', '2']\n",
            "Number of adjacent element of given list: 1\n"
          ]
        }
      ]
    },
    {
      "cell_type": "code",
      "source": [
        "# Create a set in python -- store unique element in set and it supporeted mathmatial operations like union,intersection and difference etc\n",
        "Items = {\"Carrot\", \"Chilly\", \"Pepper\"}\n",
        "print(Items)\n"
      ],
      "metadata": {
        "colab": {
          "base_uri": "https://localhost:8080/"
        },
        "id": "wlLp3SLeA8fY",
        "outputId": "a1f35f0f-36a1-402a-f1b6-b215095598f9"
      },
      "execution_count": 1,
      "outputs": [
        {
          "output_type": "stream",
          "name": "stdout",
          "text": [
            "{'Carrot', 'Pepper', 'Chilly'}\n"
          ]
        }
      ]
    },
    {
      "cell_type": "code",
      "source": [
        "# Set functions\n",
        "# add() - Adds an element to the set.\n",
        "Items = {\"Carrot\", \"Chilly\", \"Pepper\", \"Orange\"}\n",
        "Items.add(\"orange\")\n",
        "print(Items)\n",
        "\n",
        "# discard() - Removes an element from the set if it is present.\n",
        "Items = {\"Carrot\", \"Chilly\", \"Pepper\"}\n",
        "Items.discard(\"Chilly\")\n",
        "print(Items)\n",
        "\n",
        "# pop() - Removes and returns a random set element. Raises KeyError if the set is empty\n",
        "Items = {\"Carrot\", \"Chilly\", \"Pepper\"}\n",
        "Items.pop()\n",
        "Items.pop()\n",
        "Items.pop()\n",
        "# Items.pop()--through error because pop from empty set\n",
        "\n",
        "# clear() - Removes all elements from the set.\n",
        "Items = {\"Carrot\", \"Chilly\", \"Pepper\"}\n",
        "Items.clear()\n",
        "print(Items)\n",
        "\n",
        "# union() - Returns the union of two sets as a new set.\n",
        "Items1 = {\"Carrot\", \"Chilly\", \"Pepper\"}\n",
        "Items2 = {\"Carrot\", \"Chilly\", \"Pepper\", \"orange\"}\n",
        "Items3 = Items1.union(Items2)\n",
        "print(Items3)\n",
        "\n",
        "#  intersection() - Returns the common elements of two sets as a new set.\n",
        "Items1 = {\"Carrot\", \"Chilly\", \"Pepper\"}\n",
        "Items2 = {\"Carrot\", \"Chilly\", \"Pepper\", \"orange\"}\n",
        "Items3 = Items1.intersection(Items2)\n",
        "print(Items3)\n",
        "\n",
        "# difference() - Returns the elements that are present in the first set but not in the second set.\n",
        "Items1 = {\"Carrot\", \"Chilly\", \"Pepper\"}\n",
        "Items2 = {\"Carrot\", \"Chilly\", \"Pepper\", \"orange\"}\n",
        "Items3 = Items1.difference(Items2)\n",
        "print(Items3)\n",
        "\n",
        "# symmetric_difference() - This function returns the elements that are present in either of the sets but not in both the sets.\n",
        "Items1 = {\"Carrot\", \"Chilly\", \"Pepper\"}\n",
        "Items2 = {\"Carrot\", \"Chilly\", \"Pepper\", \"orange\"}\n",
        "Items3 = Items1.symmetric_difference(Items2)\n",
        "print(Items3)\n",
        "\n"
      ],
      "metadata": {
        "colab": {
          "base_uri": "https://localhost:8080/"
        },
        "id": "hYAnmr5JBkHr",
        "outputId": "53df238b-3db1-44de-9bd4-cfc1ca0adfc1"
      },
      "execution_count": 16,
      "outputs": [
        {
          "output_type": "stream",
          "name": "stdout",
          "text": [
            "{'orange', 'Chilly', 'Carrot', 'Orange', 'Pepper'}\n",
            "{'Carrot', 'Pepper'}\n",
            "set()\n",
            "{'Carrot', 'Chilly', 'orange', 'Pepper'}\n",
            "{'Carrot', 'Pepper', 'Chilly'}\n",
            "set()\n",
            "{'orange'}\n"
          ]
        }
      ]
    },
    {
      "cell_type": "code",
      "source": [
        "# prompt: print pallindrome number\n",
        "\n",
        "def is_palindrome(num):\n",
        "  \"\"\"\n",
        "  Checks whether a number is a palindrome.\n",
        "\n",
        "  Args:\n",
        "      num: The number to check.\n",
        "\n",
        "  Returns:\n",
        "      True if the number is a palindrome, False otherwise.\n",
        "  \"\"\"\n",
        "\n",
        "  # Convert the number to a string.\n",
        "  num_str = str(num)\n",
        "\n",
        "  # Check if the number is the same forwards and backwards.\n",
        "  return num_str == num_str[::-1]\n",
        "\n",
        "\n",
        "# Print all palindrome numbers between 1 and 100.\n",
        "for i in range(1, 100):\n",
        "  if is_palindrome(i):\n",
        "    print(i)\n"
      ],
      "metadata": {
        "colab": {
          "base_uri": "https://localhost:8080/"
        },
        "id": "rj32CnjKyW4G",
        "outputId": "12b73b80-c062-4a95-8503-ff7a1e7b902f"
      },
      "execution_count": 5,
      "outputs": [
        {
          "output_type": "stream",
          "name": "stdout",
          "text": [
            "101 111 121 131 141 151 161 171 181 191 202 212 222 232 242 252 262 272 282 292 303 313 323 333 343 353 363 373 383 393 404 414 424 434 444 454 464 474 484 494 505 515 525 535 545 555 565 575 585 595 606 616 626 636 646 656 666 676 686 696 707 717 727 737 747 757 767 777 787 797 808 818 828 838 848 858 868 878 888 898 909 919 929 939 949 959 969 979 989 999 "
          ]
        }
      ]
    },
    {
      "cell_type": "code",
      "source": [
        "# prompt: print reverse string\n",
        "\n",
        "def reverse_string(input_string):\n",
        "  \"\"\"\n",
        "  Reverses the order of characters in a string.\n",
        "\n",
        "  Args:\n",
        "      input_string: The string to reverse.\n",
        "\n",
        "  Returns:\n",
        "      The reversed string.\n",
        "  \"\"\"\n",
        "\n",
        "  # Base case: If the string is empty or has only one character, return it as-is.\n",
        "  if len(input_string) <= 1:\n",
        "    return input_string\n",
        "\n",
        "  # Recursively reverse the substring starting from the second character.\n",
        "  reversed_substring = reverse_string(input_string[1:])\n",
        "\n",
        "  # Concatenate the first character with the reversed substring.\n",
        "  return  reversed_substring + input_string[0]\n",
        "\n",
        "\n",
        "# Test the function.\n",
        "input_string = \"hello\"\n",
        "reversed_string = reverse_string(input_string)\n",
        "print(f\"Original string: {input_string}\")\n",
        "print(f\"Reversed string: {reversed_string}\")\n"
      ],
      "metadata": {
        "colab": {
          "base_uri": "https://localhost:8080/"
        },
        "id": "vyuJeMXqy4Ro",
        "outputId": "dfb9d0fc-3084-47eb-de6c-272c4f874754"
      },
      "execution_count": 14,
      "outputs": [
        {
          "output_type": "stream",
          "name": "stdout",
          "text": [
            "Original string: hello\n",
            "Reversed string: olleh\n"
          ]
        }
      ]
    },
    {
      "cell_type": "code",
      "source": [
        "# prompt: create a program where employee can access data from database and edit data if it is required\n",
        "\n",
        "import mysql.connector as sql\n",
        "\n",
        "# Connect to the database\n",
        "db_host = \"localhost\"\n",
        "db_user = \"root\"\n",
        "db_password = \"password\"\n",
        "db_name = \"employee_data\"\n",
        "\n",
        "connection = sql.connect(host=db_host, user=db_user, password=db_password, database=db_name)\n",
        "\n",
        "# Create a cursor object\n",
        "cursor = connection.cursor()\n",
        "\n",
        "# Prompt the user for their employee ID\n",
        "employee_id = input(\"Enter your employee ID: \")\n",
        "\n",
        "# Query the database for the employee's data\n",
        "cursor.execute(f\"SELECT * FROM employees WHERE employee_id = '{employee_id}'\")\n",
        "\n",
        "# Fetch the employee's data\n",
        "employee_data = cursor.fetchone()\n",
        "\n",
        "# If the employee exists, display their data and allow them to edit it\n",
        "if employee_data:\n",
        "    print(f\"Employee ID: {employee_data[0]}\")\n",
        "    print(f\"Name: {employee_data[1]}\")\n",
        "    print(f\"Email: {employee_data[2]}\")\n",
        "    print(f\"Phone Number: {employee_data[3]}\")\n",
        "    print(f\"Address: {employee_data[4]}\")\n",
        "\n",
        "    # Prompt the user if they want to edit their data\n",
        "    edit_data = input(\"Do you want to edit your data? (y/n): \")\n",
        "\n",
        "    # If the user wants to edit their data, get the new data from them\n",
        "    if edit_data == \"y\":\n",
        "        new_name = input(\"Enter your new name: \")\n",
        "        new_email = input(\"Enter your new email: \")\n",
        "        new_phone_number = input(\"Enter your new phone number: \")\n",
        "        new_address = input(\"Enter your new address: \")\n",
        "\n",
        "        # Update the employee's data in the database\n",
        "        cursor.execute(f\"UPDATE employees SET name = '{new_name}', email = '{new_email}', phone_number = '{new_phone_number}', address = '{new_address}' WHERE employee_id = '{employee_id}'\")\n",
        "        connection.commit()\n",
        "\n",
        "        print(\"Your data has been updated successfully.\")\n",
        "\n",
        "    # Close the cursor and connection\n",
        "    cursor.close()\n",
        "    connection.close()\n",
        "\n",
        "# If the employee does not exist, display an error message\n",
        "else:\n",
        "    print(f\"Employee with ID '{employee_id}' not found.\")\n"
      ],
      "metadata": {
        "colab": {
          "base_uri": "https://localhost:8080/",
          "height": 385
        },
        "id": "r1i_wLlu3l5C",
        "outputId": "983e2df7-9b3e-4b80-947b-840c7bc6b58d"
      },
      "execution_count": 15,
      "outputs": [
        {
          "output_type": "error",
          "ename": "ModuleNotFoundError",
          "evalue": "No module named 'mysql'",
          "traceback": [
            "\u001b[0;31m---------------------------------------------------------------------------\u001b[0m",
            "\u001b[0;31mModuleNotFoundError\u001b[0m                       Traceback (most recent call last)",
            "\u001b[0;32m<ipython-input-15-cf11870e5c37>\u001b[0m in \u001b[0;36m<cell line: 3>\u001b[0;34m()\u001b[0m\n\u001b[1;32m      1\u001b[0m \u001b[0;31m# prompt: create a program where employee can access data from database and edit data if it is required\u001b[0m\u001b[0;34m\u001b[0m\u001b[0;34m\u001b[0m\u001b[0m\n\u001b[1;32m      2\u001b[0m \u001b[0;34m\u001b[0m\u001b[0m\n\u001b[0;32m----> 3\u001b[0;31m \u001b[0;32mimport\u001b[0m \u001b[0mmysql\u001b[0m\u001b[0;34m.\u001b[0m\u001b[0mconnector\u001b[0m \u001b[0;32mas\u001b[0m \u001b[0msql\u001b[0m\u001b[0;34m\u001b[0m\u001b[0;34m\u001b[0m\u001b[0m\n\u001b[0m\u001b[1;32m      4\u001b[0m \u001b[0;34m\u001b[0m\u001b[0m\n\u001b[1;32m      5\u001b[0m \u001b[0;31m# Connect to the database\u001b[0m\u001b[0;34m\u001b[0m\u001b[0;34m\u001b[0m\u001b[0m\n",
            "\u001b[0;31mModuleNotFoundError\u001b[0m: No module named 'mysql'",
            "",
            "\u001b[0;31m---------------------------------------------------------------------------\u001b[0;32m\nNOTE: If your import is failing due to a missing package, you can\nmanually install dependencies using either !pip or !apt.\n\nTo view examples of installing some common dependencies, click the\n\"Open Examples\" button below.\n\u001b[0;31m---------------------------------------------------------------------------\u001b[0m\n"
          ],
          "errorDetails": {
            "actions": [
              {
                "action": "open_url",
                "actionText": "Open Examples",
                "url": "/notebooks/snippets/importing_libraries.ipynb"
              }
            ]
          }
        }
      ]
    },
    {
      "cell_type": "code",
      "source": [
        "# prompt: create a dataframe with 10 columns and 3 rows\n",
        "\n",
        "import pandas as pd\n",
        "\n",
        "# Create a list of column names\n",
        "column_names = ['col1', 'col2', 'col3', 'col4', 'col5', 'col6', 'col7', 'col8', 'col9', 'col10']\n",
        "\n",
        "# Create a list of rows\n",
        "rows = [[1, 2, 3, 4, 5, 6, 7, 8, 9, 10],\n",
        "       [11, 12, 13, 14, 15, 16, 17, 18, 19, 20],\n",
        "       [21, 22, 23, 24, 25, 26, 27, 28, 29, 30]]\n",
        "\n",
        "# Create the DataFrame\n",
        "df = pd.DataFrame(rows, columns=column_names)\n",
        "\n",
        "# Print the DataFrame\n",
        "print(df)\n"
      ],
      "metadata": {
        "colab": {
          "base_uri": "https://localhost:8080/"
        },
        "id": "XjgMnjTH78E6",
        "outputId": "c68bf00a-9261-4b88-c13f-725a74936f1e"
      },
      "execution_count": 17,
      "outputs": [
        {
          "output_type": "stream",
          "name": "stdout",
          "text": [
            "   col1  col2  col3  col4  col5  col6  col7  col8  col9  col10\n",
            "0     1     2     3     4     5     6     7     8     9     10\n",
            "1    11    12    13    14    15    16    17    18    19     20\n",
            "2    21    22    23    24    25    26    27    28    29     30\n"
          ]
        }
      ]
    },
    {
      "cell_type": "code",
      "source": [
        "# prompt: how to filter pandas dataframe\n",
        "\n",
        "# Filter the DataFrame by a single condition\n",
        "filtered_df = df[df['col1'] > 20]\n",
        "\n",
        "# Filter the DataFrame by multiple conditions\n",
        "filtered_df = df[(df['col1'] > 20) & (df['col2'] < 15)]\n",
        "\n",
        "# Filter the DataFrame by a condition on a specific column\n",
        "filtered_df = df[df['col3'].str.contains('specific_string')]\n",
        "\n",
        "# Filter the DataFrame by a condition on multiple columns\n",
        "filtered_df = df[df[['col4', 'col5']].isin(['specific_value1', 'specific_value2'])]\n",
        "\n",
        "# Filter the DataFrame by a condition on a specific data type\n",
        "filtered_df = df[df['col6'].dtype == 'int64']\n",
        "\n",
        "# Filter the DataFrame by a condition on a specific index\n",
        "filtered_df = df.loc[10:20]\n",
        "\n",
        "# Filter the DataFrame by a condition on a specific column and index\n",
        "filtered_df = df.loc[(df['col7'] > 100) & (df.index < 5)]\n"
      ],
      "metadata": {
        "id": "Ck9cpWysRKSv"
      },
      "execution_count": null,
      "outputs": []
    },
    {
      "cell_type": "code",
      "source": [
        "# prompt: python program to implement binary tree\n",
        "\n",
        "class Node:\n",
        "    def __init__(self, data):\n",
        "        self.data = data\n",
        "        self.left = None\n",
        "        self.right = None\n",
        "\n",
        "def insert(root, data):\n",
        "    if root is None:\n",
        "        return Node(data)\n",
        "    if data < root.data:\n",
        "        root.left = insert(root.left, data)\n",
        "    else:\n",
        "        root.right = insert(root.right, data)\n",
        "    return root\n",
        "\n",
        "def inorder(root):\n",
        "    if root is not None:\n",
        "        inorder(root.left)\n",
        "        print(root.data)\n",
        "        inorder(root.right)\n",
        "\n",
        "# Driver code\n",
        "root = None\n",
        "root = insert(root, 10)\n",
        "root = insert(root, 5)\n",
        "root = insert(root, 15)\n",
        "root = insert(root, 2)\n",
        "root = insert(root, 7)\n",
        "root = insert(root, 12)\n",
        "root = insert(root, 20)\n",
        "inorder(root)\n"
      ],
      "metadata": {
        "id": "asVVdzfm95c9"
      },
      "execution_count": null,
      "outputs": []
    }
  ]
}